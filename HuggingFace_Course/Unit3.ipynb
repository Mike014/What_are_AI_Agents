{
 "cells": [
  {
   "cell_type": "markdown",
   "metadata": {},
   "source": [
    "## **Agentic Retrieval Augmented Generation (RAG)**"
   ]
  },
  {
   "cell_type": "markdown",
   "metadata": {},
   "source": [
    "### **What is RAG (Retrieval Augmented Generation)?**\n",
    "**Language models (LLM)** are trained on **huge amounts of text**, but they have a limitation:\n",
    "\n",
    "*they don't know what happened after training.*\n",
    "\n",
    "**Retrieval Augmented Generation (RAG)** solves this problem like this:\n",
    "\n",
    "- The **LLM** receives a **question**.\n",
    "- A **retrieval module searches your database** or external sources (documents, APIs, etc.).\n",
    "- **Relevant information** is sent to the model.\n",
    "- The **model generates an answer**, based on both its knowledge and updated data."
   ]
  },
  {
   "cell_type": "markdown",
   "metadata": {},
   "source": [
    "### **What is Agentic RAG?**\n",
    "**Agentic RAG** is a step up from **classic RAG**.\n",
    "\n",
    "**Imagine your AI agent**. Not only does it **receive data**, but it can also **decide which tools to use to answer a question**.\n",
    "It is no longer passive: it **thinks like an agent**, **follows** a workflow, and **chooses**:\n",
    "\n",
    "1. whether to **search through documents**\n",
    "2. whether to **query a weather API**\n",
    "3. whether to do a **web search**\n",
    "4. whether to **combine all of this to find the best answer**"
   ]
  }
 ],
 "metadata": {
  "kernelspec": {
   "display_name": "ai_env",
   "language": "python",
   "name": "python3"
  },
  "language_info": {
   "name": "python",
   "version": "3.10.16"
  }
 },
 "nbformat": 4,
 "nbformat_minor": 2
}
