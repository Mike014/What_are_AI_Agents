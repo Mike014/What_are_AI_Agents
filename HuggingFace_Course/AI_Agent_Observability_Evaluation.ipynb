{
 "cells": [
  {
   "cell_type": "markdown",
   "metadata": {},
   "source": [
    "### 1. **What is AI agent observability**\n",
    "It is the ability to understand what is happening **inside an agent by looking at logs, metrics, and traces**.\n",
    "\n",
    "It is used to monitor **costs, latencies, errors, tool usage, feedback, and general behavior**.\n",
    "\n",
    "---\n",
    "\n",
    "### 2. **Why it matters**\n",
    "Without observability, the agent is a black box.\n",
    "\n",
    "With the right tools, you can optimize performance, control costs, detect issues, and prepare the agent for production.\n",
    "\n",
    "---\n",
    "\n",
    "### 3. **Key tools**\n",
    "Platforms like **Langfuse and Arize** offer **dashboards, tracking, and integrations**.\n",
    "\n",
    "Frameworks like **smolagents use OpenTelemetry** to export observable metadata.\n",
    "\n",
    "---\n",
    "\n",
    "### 4. **Key metrics to track**\n",
    "- **Latency**: response time\n",
    "- **Costs**: use of tokens or APIs\n",
    "- **Errors**: request failures\n",
    "- **User feedback**: explicit (votes, comments) or implicit (behaviors)\n",
    "- **Accuracy**: rate of correct or satisfactory answers\n",
    "- **Automatic evaluations**: scores from LLM or libraries (e.g. RAGAS, LLM Guard)\n",
    "\n",
    "---\n",
    "\n",
    "### 5. **Agent evaluation**\n",
    "- **Offline**: with predefined tests and controlled datasets\n",
    "- **Online**: on real traffic, with continuous monitoring\n",
    "\n",
    "Both are essential and complementary: offline measures technical precision, online detects real unexpected problems.\n",
    "\n",
    "---\n",
    "\n",
    "### 6. **Ideal Improvement Cycle**\n",
    "Offline Evaluation → Deploy → Online Observation → Bug Collection → Test Set Update → Re-evaluation."
   ]
  }
 ],
 "metadata": {
  "kernelspec": {
   "display_name": "ai_env",
   "language": "python",
   "name": "python3"
  },
  "language_info": {
   "name": "python",
   "version": "3.10.16"
  }
 },
 "nbformat": 4,
 "nbformat_minor": 2
}
