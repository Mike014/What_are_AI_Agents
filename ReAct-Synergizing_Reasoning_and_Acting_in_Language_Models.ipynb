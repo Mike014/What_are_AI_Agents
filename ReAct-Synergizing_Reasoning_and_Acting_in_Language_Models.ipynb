{
 "cells": [
  {
   "cell_type": "markdown",
   "metadata": {},
   "source": [
    "### **Summary: ReAct - Synergizing Reasoning and Acting in Language Models**\n",
    "\n",
    "**Authors**: Shunyu Yao, Jeffrey Zhao, Dian Yu, Nan Du, Izhak Shafran, Karthik Narasimhan, Yuan Cao.  \n",
    "**Objective**: Combine **reasoning** and **acting** in language models (LLMs) to enhance their **interactive decision-making** capabilities.\n",
    "\n",
    "---\n",
    "\n",
    "## **The Problem**\n",
    "- Large language models (**LLMs**) have demonstrated remarkable abilities in language understanding and interactive decision-making.\n",
    "- However, **reasoning (e.g., Chain-of-Thought)** and **acting (e.g., generating action plans)** have been **studied separately**, lacking synergy between the two.\n",
    "- This leads to issues such as:\n",
    "  - **Hallucinations in data** (generating responses not based on facts).\n",
    "  - **Difficulty in tracking complex action plans**.\n",
    "\n",
    "---\n",
    "\n",
    "## **The Solution: ReAct**\n",
    "- **ReAct** enables AI models to **simultaneously generate** **reasoning traces** and **task-specific actions**, enhancing the synergy between the two.\n",
    "- **How does it work?**\n",
    "  - **Reasoning** helps the model **formulate, update, and track** action plans, as well as handle exceptions.\n",
    "  - **Actions** allow the model to **interact with external sources** (e.g., APIs, knowledge bases, virtual environments) to gather new information.\n",
    "\n",
    "---\n",
    "\n",
    "## **Applications and Results**\n",
    "**Question Answering (HotpotQA) & Fact Verification (Fever)**\n",
    "- **ReAct** reduces **hallucinations and error propagation** compared to **Chain-of-Thought** alone by interacting with **Wikipedia APIs**.\n",
    "- The model generates **more interpretable task resolution paths** compared to methods without reasoning.\n",
    "\n",
    "**Interactive Decision-Making Benchmarks (ALFWorld & WebShop)**\n",
    "- **ReAct outperforms Imitation Learning and Reinforcement Learning methods** with a **34% and 10% higher success rate** respectively.\n",
    "- It works with **only 1-2 in-context examples**, demonstrating prompt efficiency.\n",
    "\n",
    "---\n",
    "\n",
    "## **Conclusion**\n",
    "**ReAct is a framework that combines reasoning and acting in AI models, improving the accuracy, interpretability, and reliability of responses.**\n",
    "- **It overcomes the limitations of pure Chain-of-Thought**, allowing models to **reason and interact dynamically with external sources**.\n",
    "- **It offers advantages in various fields**, including **question answering, fact verification, and interactive decision-making**.\n",
    "\n",
    "**Code and details are available on the project website.**"
   ]
  },
  {
   "cell_type": "code",
   "execution_count": 1,
   "metadata": {},
   "outputs": [
    {
     "name": "stdout",
     "output_type": "stream",
     "text": [
      "Requirement already satisfied: langchain in c:\\users\\dell\\anaconda3\\envs\\my_env\\lib\\site-packages (0.3.17)\n",
      "Requirement already satisfied: PyYAML>=5.3 in c:\\users\\dell\\anaconda3\\envs\\my_env\\lib\\site-packages (from langchain) (6.0.2)\n",
      "Requirement already satisfied: SQLAlchemy<3,>=1.4 in c:\\users\\dell\\anaconda3\\envs\\my_env\\lib\\site-packages (from langchain) (2.0.37)\n",
      "Requirement already satisfied: aiohttp<4.0.0,>=3.8.3 in c:\\users\\dell\\anaconda3\\envs\\my_env\\lib\\site-packages (from langchain) (3.11.11)\n",
      "Requirement already satisfied: langchain-core<0.4.0,>=0.3.33 in c:\\users\\dell\\anaconda3\\envs\\my_env\\lib\\site-packages (from langchain) (0.3.34)\n",
      "Requirement already satisfied: langchain-text-splitters<0.4.0,>=0.3.3 in c:\\users\\dell\\anaconda3\\envs\\my_env\\lib\\site-packages (from langchain) (0.3.6)\n",
      "Requirement already satisfied: langsmith<0.4,>=0.1.17 in c:\\users\\dell\\anaconda3\\envs\\my_env\\lib\\site-packages (from langchain) (0.3.6)\n",
      "Requirement already satisfied: numpy<3,>=1.26.2 in c:\\users\\dell\\anaconda3\\envs\\my_env\\lib\\site-packages (from langchain) (1.26.4)\n",
      "Requirement already satisfied: pydantic<3.0.0,>=2.7.4 in c:\\users\\dell\\anaconda3\\envs\\my_env\\lib\\site-packages (from langchain) (2.10.6)\n",
      "Requirement already satisfied: requests<3,>=2 in c:\\users\\dell\\anaconda3\\envs\\my_env\\lib\\site-packages (from langchain) (2.32.3)\n",
      "Requirement already satisfied: tenacity!=8.4.0,<10,>=8.1.0 in c:\\users\\dell\\anaconda3\\envs\\my_env\\lib\\site-packages (from langchain) (9.0.0)\n",
      "Requirement already satisfied: aiohappyeyeballs>=2.3.0 in c:\\users\\dell\\anaconda3\\envs\\my_env\\lib\\site-packages (from aiohttp<4.0.0,>=3.8.3->langchain) (2.4.4)\n",
      "Requirement already satisfied: aiosignal>=1.1.2 in c:\\users\\dell\\anaconda3\\envs\\my_env\\lib\\site-packages (from aiohttp<4.0.0,>=3.8.3->langchain) (1.3.2)\n",
      "Requirement already satisfied: attrs>=17.3.0 in c:\\users\\dell\\anaconda3\\envs\\my_env\\lib\\site-packages (from aiohttp<4.0.0,>=3.8.3->langchain) (25.1.0)\n",
      "Requirement already satisfied: frozenlist>=1.1.1 in c:\\users\\dell\\anaconda3\\envs\\my_env\\lib\\site-packages (from aiohttp<4.0.0,>=3.8.3->langchain) (1.5.0)\n",
      "Requirement already satisfied: multidict<7.0,>=4.5 in c:\\users\\dell\\anaconda3\\envs\\my_env\\lib\\site-packages (from aiohttp<4.0.0,>=3.8.3->langchain) (6.1.0)\n",
      "Requirement already satisfied: propcache>=0.2.0 in c:\\users\\dell\\anaconda3\\envs\\my_env\\lib\\site-packages (from aiohttp<4.0.0,>=3.8.3->langchain) (0.2.1)\n",
      "Requirement already satisfied: yarl<2.0,>=1.17.0 in c:\\users\\dell\\anaconda3\\envs\\my_env\\lib\\site-packages (from aiohttp<4.0.0,>=3.8.3->langchain) (1.18.3)\n",
      "Requirement already satisfied: jsonpatch<2.0,>=1.33 in c:\\users\\dell\\anaconda3\\envs\\my_env\\lib\\site-packages (from langchain-core<0.4.0,>=0.3.33->langchain) (1.33)\n",
      "Requirement already satisfied: packaging<25,>=23.2 in c:\\users\\dell\\anaconda3\\envs\\my_env\\lib\\site-packages (from langchain-core<0.4.0,>=0.3.33->langchain) (24.2)\n",
      "Requirement already satisfied: typing-extensions>=4.7 in c:\\users\\dell\\anaconda3\\envs\\my_env\\lib\\site-packages (from langchain-core<0.4.0,>=0.3.33->langchain) (4.12.2)\n",
      "Requirement already satisfied: httpx<1,>=0.23.0 in c:\\users\\dell\\anaconda3\\envs\\my_env\\lib\\site-packages (from langsmith<0.4,>=0.1.17->langchain) (0.28.1)\n",
      "Requirement already satisfied: orjson<4.0.0,>=3.9.14 in c:\\users\\dell\\anaconda3\\envs\\my_env\\lib\\site-packages (from langsmith<0.4,>=0.1.17->langchain) (3.10.15)\n",
      "Requirement already satisfied: requests-toolbelt<2.0.0,>=1.0.0 in c:\\users\\dell\\anaconda3\\envs\\my_env\\lib\\site-packages (from langsmith<0.4,>=0.1.17->langchain) (1.0.0)\n",
      "Requirement already satisfied: zstandard<0.24.0,>=0.23.0 in c:\\users\\dell\\anaconda3\\envs\\my_env\\lib\\site-packages (from langsmith<0.4,>=0.1.17->langchain) (0.23.0)\n",
      "Requirement already satisfied: annotated-types>=0.6.0 in c:\\users\\dell\\anaconda3\\envs\\my_env\\lib\\site-packages (from pydantic<3.0.0,>=2.7.4->langchain) (0.7.0)\n",
      "Requirement already satisfied: pydantic-core==2.27.2 in c:\\users\\dell\\anaconda3\\envs\\my_env\\lib\\site-packages (from pydantic<3.0.0,>=2.7.4->langchain) (2.27.2)\n",
      "Requirement already satisfied: charset_normalizer<4,>=2 in c:\\users\\dell\\anaconda3\\envs\\my_env\\lib\\site-packages (from requests<3,>=2->langchain) (3.4.1)\n",
      "Requirement already satisfied: idna<4,>=2.5 in c:\\users\\dell\\anaconda3\\envs\\my_env\\lib\\site-packages (from requests<3,>=2->langchain) (3.10)\n",
      "Requirement already satisfied: urllib3<3,>=1.21.1 in c:\\users\\dell\\anaconda3\\envs\\my_env\\lib\\site-packages (from requests<3,>=2->langchain) (2.3.0)\n",
      "Requirement already satisfied: certifi>=2017.4.17 in c:\\users\\dell\\anaconda3\\envs\\my_env\\lib\\site-packages (from requests<3,>=2->langchain) (2024.12.14)\n",
      "Requirement already satisfied: greenlet!=0.4.17 in c:\\users\\dell\\anaconda3\\envs\\my_env\\lib\\site-packages (from SQLAlchemy<3,>=1.4->langchain) (3.1.1)\n",
      "Requirement already satisfied: anyio in c:\\users\\dell\\anaconda3\\envs\\my_env\\lib\\site-packages (from httpx<1,>=0.23.0->langsmith<0.4,>=0.1.17->langchain) (3.7.1)\n",
      "Requirement already satisfied: httpcore==1.* in c:\\users\\dell\\anaconda3\\envs\\my_env\\lib\\site-packages (from httpx<1,>=0.23.0->langsmith<0.4,>=0.1.17->langchain) (1.0.7)\n",
      "Requirement already satisfied: h11<0.15,>=0.13 in c:\\users\\dell\\anaconda3\\envs\\my_env\\lib\\site-packages (from httpcore==1.*->httpx<1,>=0.23.0->langsmith<0.4,>=0.1.17->langchain) (0.14.0)\n",
      "Requirement already satisfied: jsonpointer>=1.9 in c:\\users\\dell\\anaconda3\\envs\\my_env\\lib\\site-packages (from jsonpatch<2.0,>=1.33->langchain-core<0.4.0,>=0.3.33->langchain) (3.0.0)\n",
      "Requirement already satisfied: sniffio>=1.1 in c:\\users\\dell\\anaconda3\\envs\\my_env\\lib\\site-packages (from anyio->httpx<1,>=0.23.0->langsmith<0.4,>=0.1.17->langchain) (1.3.1)\n",
      "Note: you may need to restart the kernel to use updated packages.\n"
     ]
    }
   ],
   "source": [
    "%pip install langchain"
   ]
  },
  {
   "cell_type": "code",
   "execution_count": 2,
   "metadata": {},
   "outputs": [],
   "source": [
    "# Simulating API requests with a dictionary\n",
    "knowledge_base = {\n",
    "    \"Eiffel Tower\": \"The Eiffel Tower is a wrought-iron lattice tower in Paris, France.\",\n",
    "    \"Python Programming\": \"Python is a high-level programming language used for general-purpose programming.\",\n",
    "    \"Albert Einstein\": \"Albert Einstein was a theoretical physicist known for the theory of relativity.\"\n",
    "}"
   ]
  },
  {
   "cell_type": "code",
   "execution_count": null,
   "metadata": {},
   "outputs": [],
   "source": [
    "# ReAct Cycle:\n",
    "\n",
    "# Reasoning → Understands what to do.\n",
    "# Acting → Searches for information in the dictionary.\n",
    "# Observation → Analyzes the result.\n",
    "# Final Answer → Provides the final response.\n",
    "\n",
    "def react_agent(query):\n",
    "    \"\"\"Simulates the behavior of an AI agent using ReAct to answer questions.\"\"\"\n",
    "    \n",
    "    print(f\"User Query: {query}\")\n",
    "    \n",
    "    # Step 1: Reasoning - Think about what to do\n",
    "    print(\"Thought: I should search for relevant information in the database.\")\n",
    "    \n",
    "    # Step 2: Acting - Search the knowledge base\n",
    "    print(\"Action: Searching knowledge base...\")\n",
    "    result = knowledge_base.get(query, None)\n",
    "    \n",
    "    # Step 3: Observation - Check the result\n",
    "    if result:\n",
    "        print(\"Observation: Information found!\")\n",
    "        # Step 4: Final Answer - Provide an answer\n",
    "        print(f\"Final Answer: {result}\")\n",
    "    else:\n",
    "        print(\"Observation: No relevant information found.\")\n",
    "        print(\"Thought: Maybe I need to refine my search or ask the user for clarification.\")\n",
    "\n",
    "# Run the agent with a question\n",
    "react_agent(\"Eiffel Tower\")"
   ]
  }
 ],
 "metadata": {
  "kernelspec": {
   "display_name": "my_env",
   "language": "python",
   "name": "python3"
  },
  "language_info": {
   "codemirror_mode": {
    "name": "ipython",
    "version": 3
   },
   "file_extension": ".py",
   "mimetype": "text/x-python",
   "name": "python",
   "nbconvert_exporter": "python",
   "pygments_lexer": "ipython3",
   "version": "3.12.8"
  }
 },
 "nbformat": 4,
 "nbformat_minor": 2
}
